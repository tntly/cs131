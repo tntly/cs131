{
  "nbformat": 4,
  "nbformat_minor": 0,
  "metadata": {
    "colab": {
      "provenance": []
    },
    "kernelspec": {
      "name": "python3",
      "display_name": "Python 3"
    },
    "language_info": {
      "name": "python"
    }
  },
  "cells": [
    {
      "cell_type": "markdown",
      "source": [
        "CS 131 - Mini Project Group 8:\n",
        "* Tien Ly\n",
        "* Jewon Yeon\n",
        "* Divij Gupta"
      ],
      "metadata": {
        "id": "POVgGtiP6iEs"
      }
    },
    {
      "cell_type": "code",
      "execution_count": 1,
      "metadata": {
        "colab": {
          "base_uri": "https://localhost:8080/",
          "height": 313
        },
        "id": "w8cN_C_4MGtR",
        "outputId": "5f0ee2d3-4fa2-47aa-ff70-31fcf8b11e97"
      },
      "outputs": [
        {
          "output_type": "execute_result",
          "data": {
            "text/plain": [
              "                             song_name            album_name  \\\n",
              "0                    Cupid - Twin Ver.  The Beginning: Cupid   \n",
              "1  Seven (feat. Latto) (Explicit Ver.)   Seven (feat. Latto)   \n",
              "2                           Like Crazy                  FACE   \n",
              "3                                MONEY                LALISA   \n",
              "4                             Take Two              Take Two   \n",
              "\n",
              "                                          album_link  artist_name  popularity  \\\n",
              "0  https://open.spotify.com/album/5letLUZIFsQikJY...  FIFTY FIFTY          98   \n",
              "1  https://open.spotify.com/album/53985D8g3JcGBoU...    Jung Kook          97   \n",
              "2  https://open.spotify.com/album/4xc3Lc9yASZgEJG...        Jimin          96   \n",
              "3  https://open.spotify.com/album/4ASxFYWyk2216Ol...         LISA          96   \n",
              "4  https://open.spotify.com/album/3jeQDa9OFZ6GndL...          BTS          95   \n",
              "\n",
              "  release_date                                          song_link  \\\n",
              "0   2023-02-24  https://open.spotify.com/track/7FbrGaHYVDmfr7K...   \n",
              "1   2023-07-14  https://open.spotify.com/track/7x9aauaA9cu6tyf...   \n",
              "2   2023-03-24  https://open.spotify.com/track/3Ua0m0YmEjrMi9X...   \n",
              "3   2021-09-10  https://open.spotify.com/track/45OX2jjEw1l7lOF...   \n",
              "4   2023-06-09  https://open.spotify.com/track/5IAESfJjmOYu7cH...   \n",
              "\n",
              "   duration_ms  explicit query_genre  \n",
              "0       174253     False       k-pop  \n",
              "1       184400      True       k-pop  \n",
              "2       212241     False       k-pop  \n",
              "3       168227     False       k-pop  \n",
              "4       229953     False       k-pop  "
            ],
            "text/html": [
              "\n",
              "  <div id=\"df-7811e448-60da-493d-8e06-2b5abd98d79d\" class=\"colab-df-container\">\n",
              "    <div>\n",
              "<style scoped>\n",
              "    .dataframe tbody tr th:only-of-type {\n",
              "        vertical-align: middle;\n",
              "    }\n",
              "\n",
              "    .dataframe tbody tr th {\n",
              "        vertical-align: top;\n",
              "    }\n",
              "\n",
              "    .dataframe thead th {\n",
              "        text-align: right;\n",
              "    }\n",
              "</style>\n",
              "<table border=\"1\" class=\"dataframe\">\n",
              "  <thead>\n",
              "    <tr style=\"text-align: right;\">\n",
              "      <th></th>\n",
              "      <th>song_name</th>\n",
              "      <th>album_name</th>\n",
              "      <th>album_link</th>\n",
              "      <th>artist_name</th>\n",
              "      <th>popularity</th>\n",
              "      <th>release_date</th>\n",
              "      <th>song_link</th>\n",
              "      <th>duration_ms</th>\n",
              "      <th>explicit</th>\n",
              "      <th>query_genre</th>\n",
              "    </tr>\n",
              "  </thead>\n",
              "  <tbody>\n",
              "    <tr>\n",
              "      <th>0</th>\n",
              "      <td>Cupid - Twin Ver.</td>\n",
              "      <td>The Beginning: Cupid</td>\n",
              "      <td>https://open.spotify.com/album/5letLUZIFsQikJY...</td>\n",
              "      <td>FIFTY FIFTY</td>\n",
              "      <td>98</td>\n",
              "      <td>2023-02-24</td>\n",
              "      <td>https://open.spotify.com/track/7FbrGaHYVDmfr7K...</td>\n",
              "      <td>174253</td>\n",
              "      <td>False</td>\n",
              "      <td>k-pop</td>\n",
              "    </tr>\n",
              "    <tr>\n",
              "      <th>1</th>\n",
              "      <td>Seven (feat. Latto) (Explicit Ver.)</td>\n",
              "      <td>Seven (feat. Latto)</td>\n",
              "      <td>https://open.spotify.com/album/53985D8g3JcGBoU...</td>\n",
              "      <td>Jung Kook</td>\n",
              "      <td>97</td>\n",
              "      <td>2023-07-14</td>\n",
              "      <td>https://open.spotify.com/track/7x9aauaA9cu6tyf...</td>\n",
              "      <td>184400</td>\n",
              "      <td>True</td>\n",
              "      <td>k-pop</td>\n",
              "    </tr>\n",
              "    <tr>\n",
              "      <th>2</th>\n",
              "      <td>Like Crazy</td>\n",
              "      <td>FACE</td>\n",
              "      <td>https://open.spotify.com/album/4xc3Lc9yASZgEJG...</td>\n",
              "      <td>Jimin</td>\n",
              "      <td>96</td>\n",
              "      <td>2023-03-24</td>\n",
              "      <td>https://open.spotify.com/track/3Ua0m0YmEjrMi9X...</td>\n",
              "      <td>212241</td>\n",
              "      <td>False</td>\n",
              "      <td>k-pop</td>\n",
              "    </tr>\n",
              "    <tr>\n",
              "      <th>3</th>\n",
              "      <td>MONEY</td>\n",
              "      <td>LALISA</td>\n",
              "      <td>https://open.spotify.com/album/4ASxFYWyk2216Ol...</td>\n",
              "      <td>LISA</td>\n",
              "      <td>96</td>\n",
              "      <td>2021-09-10</td>\n",
              "      <td>https://open.spotify.com/track/45OX2jjEw1l7lOF...</td>\n",
              "      <td>168227</td>\n",
              "      <td>False</td>\n",
              "      <td>k-pop</td>\n",
              "    </tr>\n",
              "    <tr>\n",
              "      <th>4</th>\n",
              "      <td>Take Two</td>\n",
              "      <td>Take Two</td>\n",
              "      <td>https://open.spotify.com/album/3jeQDa9OFZ6GndL...</td>\n",
              "      <td>BTS</td>\n",
              "      <td>95</td>\n",
              "      <td>2023-06-09</td>\n",
              "      <td>https://open.spotify.com/track/5IAESfJjmOYu7cH...</td>\n",
              "      <td>229953</td>\n",
              "      <td>False</td>\n",
              "      <td>k-pop</td>\n",
              "    </tr>\n",
              "  </tbody>\n",
              "</table>\n",
              "</div>\n",
              "    <div class=\"colab-df-buttons\">\n",
              "\n",
              "  <div class=\"colab-df-container\">\n",
              "    <button class=\"colab-df-convert\" onclick=\"convertToInteractive('df-7811e448-60da-493d-8e06-2b5abd98d79d')\"\n",
              "            title=\"Convert this dataframe to an interactive table.\"\n",
              "            style=\"display:none;\">\n",
              "\n",
              "  <svg xmlns=\"http://www.w3.org/2000/svg\" height=\"24px\" viewBox=\"0 -960 960 960\">\n",
              "    <path d=\"M120-120v-720h720v720H120Zm60-500h600v-160H180v160Zm220 220h160v-160H400v160Zm0 220h160v-160H400v160ZM180-400h160v-160H180v160Zm440 0h160v-160H620v160ZM180-180h160v-160H180v160Zm440 0h160v-160H620v160Z\"/>\n",
              "  </svg>\n",
              "    </button>\n",
              "\n",
              "  <style>\n",
              "    .colab-df-container {\n",
              "      display:flex;\n",
              "      gap: 12px;\n",
              "    }\n",
              "\n",
              "    .colab-df-convert {\n",
              "      background-color: #E8F0FE;\n",
              "      border: none;\n",
              "      border-radius: 50%;\n",
              "      cursor: pointer;\n",
              "      display: none;\n",
              "      fill: #1967D2;\n",
              "      height: 32px;\n",
              "      padding: 0 0 0 0;\n",
              "      width: 32px;\n",
              "    }\n",
              "\n",
              "    .colab-df-convert:hover {\n",
              "      background-color: #E2EBFA;\n",
              "      box-shadow: 0px 1px 2px rgba(60, 64, 67, 0.3), 0px 1px 3px 1px rgba(60, 64, 67, 0.15);\n",
              "      fill: #174EA6;\n",
              "    }\n",
              "\n",
              "    .colab-df-buttons div {\n",
              "      margin-bottom: 4px;\n",
              "    }\n",
              "\n",
              "    [theme=dark] .colab-df-convert {\n",
              "      background-color: #3B4455;\n",
              "      fill: #D2E3FC;\n",
              "    }\n",
              "\n",
              "    [theme=dark] .colab-df-convert:hover {\n",
              "      background-color: #434B5C;\n",
              "      box-shadow: 0px 1px 3px 1px rgba(0, 0, 0, 0.15);\n",
              "      filter: drop-shadow(0px 1px 2px rgba(0, 0, 0, 0.3));\n",
              "      fill: #FFFFFF;\n",
              "    }\n",
              "  </style>\n",
              "\n",
              "    <script>\n",
              "      const buttonEl =\n",
              "        document.querySelector('#df-7811e448-60da-493d-8e06-2b5abd98d79d button.colab-df-convert');\n",
              "      buttonEl.style.display =\n",
              "        google.colab.kernel.accessAllowed ? 'block' : 'none';\n",
              "\n",
              "      async function convertToInteractive(key) {\n",
              "        const element = document.querySelector('#df-7811e448-60da-493d-8e06-2b5abd98d79d');\n",
              "        const dataTable =\n",
              "          await google.colab.kernel.invokeFunction('convertToInteractive',\n",
              "                                                    [key], {});\n",
              "        if (!dataTable) return;\n",
              "\n",
              "        const docLinkHtml = 'Like what you see? Visit the ' +\n",
              "          '<a target=\"_blank\" href=https://colab.research.google.com/notebooks/data_table.ipynb>data table notebook</a>'\n",
              "          + ' to learn more about interactive tables.';\n",
              "        element.innerHTML = '';\n",
              "        dataTable['output_type'] = 'display_data';\n",
              "        await google.colab.output.renderOutput(dataTable, element);\n",
              "        const docLink = document.createElement('div');\n",
              "        docLink.innerHTML = docLinkHtml;\n",
              "        element.appendChild(docLink);\n",
              "      }\n",
              "    </script>\n",
              "  </div>\n",
              "\n",
              "\n",
              "<div id=\"df-d5c1d8aa-2b72-417d-b0a6-5a7c69e1ddc0\">\n",
              "  <button class=\"colab-df-quickchart\" onclick=\"quickchart('df-d5c1d8aa-2b72-417d-b0a6-5a7c69e1ddc0')\"\n",
              "            title=\"Suggest charts\"\n",
              "            style=\"display:none;\">\n",
              "\n",
              "<svg xmlns=\"http://www.w3.org/2000/svg\" height=\"24px\"viewBox=\"0 0 24 24\"\n",
              "     width=\"24px\">\n",
              "    <g>\n",
              "        <path d=\"M19 3H5c-1.1 0-2 .9-2 2v14c0 1.1.9 2 2 2h14c1.1 0 2-.9 2-2V5c0-1.1-.9-2-2-2zM9 17H7v-7h2v7zm4 0h-2V7h2v10zm4 0h-2v-4h2v4z\"/>\n",
              "    </g>\n",
              "</svg>\n",
              "  </button>\n",
              "\n",
              "<style>\n",
              "  .colab-df-quickchart {\n",
              "      --bg-color: #E8F0FE;\n",
              "      --fill-color: #1967D2;\n",
              "      --hover-bg-color: #E2EBFA;\n",
              "      --hover-fill-color: #174EA6;\n",
              "      --disabled-fill-color: #AAA;\n",
              "      --disabled-bg-color: #DDD;\n",
              "  }\n",
              "\n",
              "  [theme=dark] .colab-df-quickchart {\n",
              "      --bg-color: #3B4455;\n",
              "      --fill-color: #D2E3FC;\n",
              "      --hover-bg-color: #434B5C;\n",
              "      --hover-fill-color: #FFFFFF;\n",
              "      --disabled-bg-color: #3B4455;\n",
              "      --disabled-fill-color: #666;\n",
              "  }\n",
              "\n",
              "  .colab-df-quickchart {\n",
              "    background-color: var(--bg-color);\n",
              "    border: none;\n",
              "    border-radius: 50%;\n",
              "    cursor: pointer;\n",
              "    display: none;\n",
              "    fill: var(--fill-color);\n",
              "    height: 32px;\n",
              "    padding: 0;\n",
              "    width: 32px;\n",
              "  }\n",
              "\n",
              "  .colab-df-quickchart:hover {\n",
              "    background-color: var(--hover-bg-color);\n",
              "    box-shadow: 0 1px 2px rgba(60, 64, 67, 0.3), 0 1px 3px 1px rgba(60, 64, 67, 0.15);\n",
              "    fill: var(--button-hover-fill-color);\n",
              "  }\n",
              "\n",
              "  .colab-df-quickchart-complete:disabled,\n",
              "  .colab-df-quickchart-complete:disabled:hover {\n",
              "    background-color: var(--disabled-bg-color);\n",
              "    fill: var(--disabled-fill-color);\n",
              "    box-shadow: none;\n",
              "  }\n",
              "\n",
              "  .colab-df-spinner {\n",
              "    border: 2px solid var(--fill-color);\n",
              "    border-color: transparent;\n",
              "    border-bottom-color: var(--fill-color);\n",
              "    animation:\n",
              "      spin 1s steps(1) infinite;\n",
              "  }\n",
              "\n",
              "  @keyframes spin {\n",
              "    0% {\n",
              "      border-color: transparent;\n",
              "      border-bottom-color: var(--fill-color);\n",
              "      border-left-color: var(--fill-color);\n",
              "    }\n",
              "    20% {\n",
              "      border-color: transparent;\n",
              "      border-left-color: var(--fill-color);\n",
              "      border-top-color: var(--fill-color);\n",
              "    }\n",
              "    30% {\n",
              "      border-color: transparent;\n",
              "      border-left-color: var(--fill-color);\n",
              "      border-top-color: var(--fill-color);\n",
              "      border-right-color: var(--fill-color);\n",
              "    }\n",
              "    40% {\n",
              "      border-color: transparent;\n",
              "      border-right-color: var(--fill-color);\n",
              "      border-top-color: var(--fill-color);\n",
              "    }\n",
              "    60% {\n",
              "      border-color: transparent;\n",
              "      border-right-color: var(--fill-color);\n",
              "    }\n",
              "    80% {\n",
              "      border-color: transparent;\n",
              "      border-right-color: var(--fill-color);\n",
              "      border-bottom-color: var(--fill-color);\n",
              "    }\n",
              "    90% {\n",
              "      border-color: transparent;\n",
              "      border-bottom-color: var(--fill-color);\n",
              "    }\n",
              "  }\n",
              "</style>\n",
              "\n",
              "  <script>\n",
              "    async function quickchart(key) {\n",
              "      const quickchartButtonEl =\n",
              "        document.querySelector('#' + key + ' button');\n",
              "      quickchartButtonEl.disabled = true;  // To prevent multiple clicks.\n",
              "      quickchartButtonEl.classList.add('colab-df-spinner');\n",
              "      try {\n",
              "        const charts = await google.colab.kernel.invokeFunction(\n",
              "            'suggestCharts', [key], {});\n",
              "      } catch (error) {\n",
              "        console.error('Error during call to suggestCharts:', error);\n",
              "      }\n",
              "      quickchartButtonEl.classList.remove('colab-df-spinner');\n",
              "      quickchartButtonEl.classList.add('colab-df-quickchart-complete');\n",
              "    }\n",
              "    (() => {\n",
              "      let quickchartButtonEl =\n",
              "        document.querySelector('#df-d5c1d8aa-2b72-417d-b0a6-5a7c69e1ddc0 button');\n",
              "      quickchartButtonEl.style.display =\n",
              "        google.colab.kernel.accessAllowed ? 'block' : 'none';\n",
              "    })();\n",
              "  </script>\n",
              "</div>\n",
              "    </div>\n",
              "  </div>\n"
            ]
          },
          "metadata": {},
          "execution_count": 1
        }
      ],
      "source": [
        "import pandas as pd\n",
        "import seaborn as sns\n",
        "import matplotlib.pyplot as plt\n",
        "import numpy as np\n",
        "\n",
        "df = pd.read_csv('https://raw.githubusercontent.com/tntly/cs131/main/MiniProjectGroup8/east_asia_top_tracks.csv', index_col=0)\n",
        "df.head()"
      ]
    },
    {
      "cell_type": "code",
      "source": [
        "df.release_date[5370] = '1988-08-24'\n",
        "df.release_date = pd.to_datetime(df.release_date)"
      ],
      "metadata": {
        "colab": {
          "base_uri": "https://localhost:8080/"
        },
        "id": "uDoDOJirCDBL",
        "outputId": "5f403aae-e94c-4139-93ff-a73dfd9f1ff8"
      },
      "execution_count": 2,
      "outputs": [
        {
          "output_type": "stream",
          "name": "stderr",
          "text": [
            "<ipython-input-2-f70a72738f00>:1: SettingWithCopyWarning: \n",
            "A value is trying to be set on a copy of a slice from a DataFrame\n",
            "\n",
            "See the caveats in the documentation: https://pandas.pydata.org/pandas-docs/stable/user_guide/indexing.html#returning-a-view-versus-a-copy\n",
            "  df.release_date[5370] = '1988-08-24'\n"
          ]
        }
      ]
    },
    {
      "cell_type": "code",
      "source": [
        "df.info()"
      ],
      "metadata": {
        "colab": {
          "base_uri": "https://localhost:8080/"
        },
        "id": "ympjRTUqNAUu",
        "outputId": "2f086e04-a4eb-4d4c-d81a-c86904f5f313"
      },
      "execution_count": 3,
      "outputs": [
        {
          "output_type": "stream",
          "name": "stdout",
          "text": [
            "<class 'pandas.core.frame.DataFrame'>\n",
            "Int64Index: 7000 entries, 0 to 6999\n",
            "Data columns (total 10 columns):\n",
            " #   Column        Non-Null Count  Dtype         \n",
            "---  ------        --------------  -----         \n",
            " 0   song_name     7000 non-null   object        \n",
            " 1   album_name    7000 non-null   object        \n",
            " 2   album_link    7000 non-null   object        \n",
            " 3   artist_name   7000 non-null   object        \n",
            " 4   popularity    7000 non-null   int64         \n",
            " 5   release_date  7000 non-null   datetime64[ns]\n",
            " 6   song_link     7000 non-null   object        \n",
            " 7   duration_ms   7000 non-null   int64         \n",
            " 8   explicit      7000 non-null   bool          \n",
            " 9   query_genre   7000 non-null   object        \n",
            "dtypes: bool(1), datetime64[ns](1), int64(2), object(6)\n",
            "memory usage: 811.8+ KB\n"
          ]
        }
      ]
    },
    {
      "cell_type": "markdown",
      "source": [
        "## Pre-processing"
      ],
      "metadata": {
        "id": "cZNsOL79PF40"
      }
    },
    {
      "cell_type": "code",
      "source": [
        "df.query_genre.unique()"
      ],
      "metadata": {
        "colab": {
          "base_uri": "https://localhost:8080/"
        },
        "id": "iUJslTORNMx8",
        "outputId": "3317564d-a668-4e96-87db-05e2de86e0a7"
      },
      "execution_count": 4,
      "outputs": [
        {
          "output_type": "execute_result",
          "data": {
            "text/plain": [
              "array(['k-pop', 'j-pop', 'japanese', 'korean', 'j-dance', 'chinese',\n",
              "       'j-idol'], dtype=object)"
            ]
          },
          "metadata": {},
          "execution_count": 4
        }
      ]
    },
    {
      "cell_type": "code",
      "source": [
        "df_cn = df[df.query_genre == 'chinese']\n",
        "df_cn.shape"
      ],
      "metadata": {
        "colab": {
          "base_uri": "https://localhost:8080/"
        },
        "id": "DryfyKMtNGSt",
        "outputId": "c84b2559-2423-4f16-f55b-bd56ca22ce10"
      },
      "execution_count": 5,
      "outputs": [
        {
          "output_type": "execute_result",
          "data": {
            "text/plain": [
              "(1000, 10)"
            ]
          },
          "metadata": {},
          "execution_count": 5
        }
      ]
    },
    {
      "cell_type": "code",
      "source": [
        "df_kr = df[(df.query_genre == 'k-pop') | (df.query_genre == 'korean')]\n",
        "df_kr.shape"
      ],
      "metadata": {
        "colab": {
          "base_uri": "https://localhost:8080/"
        },
        "id": "GL_YRoH9NcdV",
        "outputId": "1e585557-f3e7-40c1-9acb-10a9c10d6160"
      },
      "execution_count": 6,
      "outputs": [
        {
          "output_type": "execute_result",
          "data": {
            "text/plain": [
              "(2000, 10)"
            ]
          },
          "metadata": {},
          "execution_count": 6
        }
      ]
    },
    {
      "cell_type": "code",
      "source": [
        "df_jp = df[df.query_genre.isin(['j-pop', 'japanese', 'j-dance', 'j-idol'])]\n",
        "df_jp.shape"
      ],
      "metadata": {
        "colab": {
          "base_uri": "https://localhost:8080/"
        },
        "id": "4N5DhXW3Nn_5",
        "outputId": "95fd453b-3f92-44b9-ae72-c98d76150b54"
      },
      "execution_count": 7,
      "outputs": [
        {
          "output_type": "execute_result",
          "data": {
            "text/plain": [
              "(4000, 10)"
            ]
          },
          "metadata": {},
          "execution_count": 7
        }
      ]
    },
    {
      "cell_type": "code",
      "source": [
        "df_cn = df_cn[df_cn.popularity >= 70].drop_duplicates(subset=['song_link'])\n",
        "df_cn.shape"
      ],
      "metadata": {
        "colab": {
          "base_uri": "https://localhost:8080/"
        },
        "id": "eRkG1sSKSLrX",
        "outputId": "cff490c0-7882-4499-a988-37716711955e"
      },
      "execution_count": 8,
      "outputs": [
        {
          "output_type": "execute_result",
          "data": {
            "text/plain": [
              "(4, 10)"
            ]
          },
          "metadata": {},
          "execution_count": 8
        }
      ]
    },
    {
      "cell_type": "code",
      "source": [
        "df_kr = df_kr[df_kr.popularity >= 70].drop_duplicates(subset=['song_link'])\n",
        "df_kr.shape"
      ],
      "metadata": {
        "colab": {
          "base_uri": "https://localhost:8080/"
        },
        "id": "6R9xgthvRIZc",
        "outputId": "9496cca0-d2d8-43a9-e854-b3c16c7705d5"
      },
      "execution_count": 9,
      "outputs": [
        {
          "output_type": "execute_result",
          "data": {
            "text/plain": [
              "(306, 10)"
            ]
          },
          "metadata": {},
          "execution_count": 9
        }
      ]
    },
    {
      "cell_type": "code",
      "source": [
        "df_jp = df_jp[df_jp.popularity >= 70].drop_duplicates(subset=['song_link'])\n",
        "df_jp.shape"
      ],
      "metadata": {
        "colab": {
          "base_uri": "https://localhost:8080/"
        },
        "id": "yDSLiEBTRk14",
        "outputId": "fb854999-accd-4065-cadc-42a4d95dcbd4"
      },
      "execution_count": 10,
      "outputs": [
        {
          "output_type": "execute_result",
          "data": {
            "text/plain": [
              "(103, 10)"
            ]
          },
          "metadata": {},
          "execution_count": 10
        }
      ]
    },
    {
      "cell_type": "markdown",
      "source": [
        "## Task 1\n",
        "\n",
        "Does a song's length influence its chance of becoming popular? What about the song's content (explicit vs. non-explicit) -> **Hypothesis**: songs that are shorter and non-explicit have a higher chance of becoming hit.\n",
        "* `duration_ms`: Determine the average duration for each file, then convert it to minutes\n",
        "* `explicit`: Determine the proportion of explicit to non-explicit songs for each file\n",
        "* Was the hypothesis correct?\n"
      ],
      "metadata": {
        "id": "g6VXqjmWPNDU"
      }
    },
    {
      "cell_type": "markdown",
      "source": [
        "### durations_ms"
      ],
      "metadata": {
        "id": "lx8YUyCfLJ1w"
      }
    },
    {
      "cell_type": "code",
      "source": [
        "for lan in [df_cn, df_kr, df_jp]:\n",
        "  print(lan.duration_ms.mean() / 60000)"
      ],
      "metadata": {
        "colab": {
          "base_uri": "https://localhost:8080/"
        },
        "id": "8PednswkPjDm",
        "outputId": "ea904ffe-5550-4e35-c45d-0540a87c6e73"
      },
      "execution_count": 11,
      "outputs": [
        {
          "output_type": "stream",
          "name": "stdout",
          "text": [
            "4.5486625\n",
            "3.257780337690632\n",
            "3.8713270226537215\n"
          ]
        }
      ]
    },
    {
      "cell_type": "code",
      "source": [
        "df_cn['language'] = 'Chinese'\n",
        "df_kr['language'] = 'Korean'\n",
        "df_jp['language'] = 'Japanese'\n",
        "df_concat = pd.concat([df_cn, df_kr, df_jp])\n",
        "df_concat['duration_min'] = df_concat.duration_ms / 60000"
      ],
      "metadata": {
        "id": "0wfTdJ02_zV_"
      },
      "execution_count": 12,
      "outputs": []
    },
    {
      "cell_type": "code",
      "source": [
        "sns.violinplot(data=df_concat, x='language', y='duration_min',\n",
        "               hue='explicit', split=True, cut=0, density_norm='count')\n",
        "\n",
        "plt.xlabel('Language')\n",
        "plt.ylabel('Duration (in Minutes)')\n",
        "plt.title('Duration Distribution across East-Asian Genres');"
      ],
      "metadata": {
        "colab": {
          "base_uri": "https://localhost:8080/",
          "height": 472
        },
        "id": "b6RMoQwCDCBf",
        "outputId": "4add33ee-b33d-4189-dde7-9ff744e520de"
      },
      "execution_count": 13,
      "outputs": [
        {
          "output_type": "display_data",
          "data": {
            "text/plain": [
              "<Figure size 640x480 with 1 Axes>"
            ],
            "image/png": "[encoded data removed]"
          },
          "metadata": {}
        }
      ]
    },
    {
      "cell_type": "markdown",
      "source": [
        "### explicit"
      ],
      "metadata": {
        "id": "sNnaq-4yLMiH"
      }
    },
    {
      "cell_type": "code",
      "source": [
        "for lan in [df_cn, df_kr, df_jp]:\n",
        "  print(lan[lan.explicit == True].shape[0])\n",
        "  print(lan[lan.explicit == True].shape[0] / lan.shape[0] * 100)\n",
        "  print()"
      ],
      "metadata": {
        "colab": {
          "base_uri": "https://localhost:8080/"
        },
        "id": "Dz-8HSSSSeWb",
        "outputId": "a8f9679c-3f39-41cc-abb4-86a96c66b707"
      },
      "execution_count": 14,
      "outputs": [
        {
          "output_type": "stream",
          "name": "stdout",
          "text": [
            "0\n",
            "0.0\n",
            "\n",
            "26\n",
            "8.49673202614379\n",
            "\n",
            "1\n",
            "0.9708737864077669\n",
            "\n"
          ]
        }
      ]
    },
    {
      "cell_type": "code",
      "source": [
        "plt.pie(df_cn.explicit.value_counts(), labels=df_cn.explicit.value_counts().index, autopct='%.1f%%')\n",
        "plt.title('Explicit vs. Non-Explicit for Chinese Tracks');"
      ],
      "metadata": {
        "colab": {
          "base_uri": "https://localhost:8080/",
          "height": 428
        },
        "id": "esmhty26JXN0",
        "outputId": "caff5eb5-1b05-4e7a-e5a2-940ac06c8c5e"
      },
      "execution_count": 15,
      "outputs": [
        {
          "output_type": "display_data",
          "data": {
            "text/plain": [
              "<Figure size 640x480 with 1 Axes>"
            ],
            "image/png": "[encoded data removed]"
          },
          "metadata": {}
        }
      ]
    },
    {
      "cell_type": "code",
      "source": [
        "plt.pie(df_kr.explicit.value_counts(), labels=df_kr.explicit.value_counts().index, autopct='%.1f%%',\n",
        "        explode=(0, 0.1), shadow=True, startangle=360)\n",
        "plt.title('Explicit vs. Non-Explicit for Korean Tracks');"
      ],
      "metadata": {
        "colab": {
          "base_uri": "https://localhost:8080/",
          "height": 428
        },
        "id": "qBnqJo55Jn3X",
        "outputId": "c4a15122-4566-4d4b-d966-b7701f514322"
      },
      "execution_count": 16,
      "outputs": [
        {
          "output_type": "display_data",
          "data": {
            "text/plain": [
              "<Figure size 640x480 with 1 Axes>"
            ],
            "image/png": "[encoded data removed]"
          },
          "metadata": {}
        }
      ]
    },
    {
      "cell_type": "code",
      "source": [
        "plt.pie(df_jp.explicit.value_counts(), labels=df_jp.explicit.value_counts().index, autopct='%.1f%%',\n",
        "        explode=(0, 0.1), shadow=True, startangle=360)\n",
        "plt.title('Explicit vs. Non-Explicit for Japanese Tracks');"
      ],
      "metadata": {
        "colab": {
          "base_uri": "https://localhost:8080/",
          "height": 428
        },
        "id": "qgPJYSqSK1I3",
        "outputId": "f793a852-aa94-4bf4-cbd1-16591b6c150d"
      },
      "execution_count": 17,
      "outputs": [
        {
          "output_type": "display_data",
          "data": {
            "text/plain": [
              "<Figure size 640x480 with 1 Axes>"
            ],
            "image/png": "[encoded data removed]"
          },
          "metadata": {}
        }
      ]
    },
    {
      "cell_type": "markdown",
      "source": [
        "## Task 2\n",
        "\n",
        "Who are the popular artists from the past few years? Which songs have remained popular over time?\n",
        "* `artist_name`: List the top 5 artists with the most songs for each file\n",
        "* `release_date`: List the 5 oldest songs in each file"
      ],
      "metadata": {
        "id": "CDwXKCF5PPGm"
      }
    },
    {
      "cell_type": "markdown",
      "source": [
        "### artist_name"
      ],
      "metadata": {
        "id": "VL1ByPqpLP2A"
      }
    },
    {
      "cell_type": "code",
      "source": [
        "df_cn.artist_name.value_counts().head()"
      ],
      "metadata": {
        "colab": {
          "base_uri": "https://localhost:8080/"
        },
        "id": "dCMUwDbXUOJT",
        "outputId": "de1b301f-6f62-4ebe-f199-41bb8d469826"
      },
      "execution_count": 18,
      "outputs": [
        {
          "output_type": "execute_result",
          "data": {
            "text/plain": [
              "WeiBird    1\n",
              "张远         1\n",
              "小阿七        1\n",
              "WayV       1\n",
              "Name: artist_name, dtype: int64"
            ]
          },
          "metadata": {},
          "execution_count": 18
        }
      ]
    },
    {
      "cell_type": "code",
      "source": [
        "sns.countplot(df_cn, x='artist_name')\n",
        "\n",
        "plt.xlabel('Artist Name')\n",
        "plt.xticks(rotation=90)\n",
        "plt.ylabel('Count')\n",
        "plt.title('Top Chinese Artists with the Most Popular Songs');"
      ],
      "metadata": {
        "colab": {
          "base_uri": "https://localhost:8080/",
          "height": 888
        },
        "id": "6MAo-N11LiUr",
        "outputId": "20c89aa0-6770-471a-b654-50bb39d1df5f"
      },
      "execution_count": 19,
      "outputs": [
        {
          "output_type": "stream",
          "name": "stderr",
          "text": [
            "/usr/local/lib/python3.10/dist-packages/IPython/core/events.py:89: UserWarning: Glyph 24352 (\\N{CJK UNIFIED IDEOGRAPH-5F20}) missing from current font.\n",
            "  func(*args, **kwargs)\n",
            "/usr/local/lib/python3.10/dist-packages/IPython/core/events.py:89: UserWarning: Glyph 36828 (\\N{CJK UNIFIED IDEOGRAPH-8FDC}) missing from current font.\n",
            "  func(*args, **kwargs)\n",
            "/usr/local/lib/python3.10/dist-packages/IPython/core/events.py:89: UserWarning: Glyph 23567 (\\N{CJK UNIFIED IDEOGRAPH-5C0F}) missing from current font.\n",
            "  func(*args, **kwargs)\n",
            "/usr/local/lib/python3.10/dist-packages/IPython/core/events.py:89: UserWarning: Glyph 38463 (\\N{CJK UNIFIED IDEOGRAPH-963F}) missing from current font.\n",
            "  func(*args, **kwargs)\n",
            "/usr/local/lib/python3.10/dist-packages/IPython/core/events.py:89: UserWarning: Glyph 19971 (\\N{CJK UNIFIED IDEOGRAPH-4E03}) missing from current font.\n",
            "  func(*args, **kwargs)\n",
            "/usr/local/lib/python3.10/dist-packages/IPython/core/pylabtools.py:151: UserWarning: Glyph 24352 (\\N{CJK UNIFIED IDEOGRAPH-5F20}) missing from current font.\n",
            "  fig.canvas.print_figure(bytes_io, **kw)\n",
            "/usr/local/lib/python3.10/dist-packages/IPython/core/pylabtools.py:151: UserWarning: Glyph 36828 (\\N{CJK UNIFIED IDEOGRAPH-8FDC}) missing from current font.\n",
            "  fig.canvas.print_figure(bytes_io, **kw)\n",
            "/usr/local/lib/python3.10/dist-packages/IPython/core/pylabtools.py:151: UserWarning: Glyph 23567 (\\N{CJK UNIFIED IDEOGRAPH-5C0F}) missing from current font.\n",
            "  fig.canvas.print_figure(bytes_io, **kw)\n",
            "/usr/local/lib/python3.10/dist-packages/IPython/core/pylabtools.py:151: UserWarning: Glyph 38463 (\\N{CJK UNIFIED IDEOGRAPH-963F}) missing from current font.\n",
            "  fig.canvas.print_figure(bytes_io, **kw)\n",
            "/usr/local/lib/python3.10/dist-packages/IPython/core/pylabtools.py:151: UserWarning: Glyph 19971 (\\N{CJK UNIFIED IDEOGRAPH-4E03}) missing from current font.\n",
            "  fig.canvas.print_figure(bytes_io, **kw)\n"
          ]
        },
        {
          "output_type": "display_data",
          "data": {
            "text/plain": [
              "<Figure size 640x480 with 1 Axes>"
            ],
            "image/png": "[encoded data removed]"
          },
          "metadata": {}
        }
      ]
    },
    {
      "cell_type": "code",
      "source": [
        "df_kr.artist_name.value_counts().head()"
      ],
      "metadata": {
        "colab": {
          "base_uri": "https://localhost:8080/"
        },
        "id": "qRh2DOK4WIe4",
        "outputId": "0b5894b2-8275-4d91-a4f7-ec5884801742"
      },
      "execution_count": 21,
      "outputs": [
        {
          "output_type": "execute_result",
          "data": {
            "text/plain": [
              "BLACKPINK              25\n",
              "SEVENTEEN              20\n",
              "EXO                    17\n",
              "TOMORROW X TOGETHER    15\n",
              "ENHYPEN                15\n",
              "Name: artist_name, dtype: int64"
            ]
          },
          "metadata": {},
          "execution_count": 21
        }
      ]
    },
    {
      "cell_type": "code",
      "source": [
        "sns.countplot(df_kr, x='artist_name',\n",
        "              order=df_kr['artist_name'].value_counts().nlargest(5).index)\n",
        "\n",
        "plt.xlabel('Artist Name')\n",
        "plt.xticks(rotation=90)\n",
        "plt.ylabel('Count')\n",
        "plt.title('Top 5 Korean Artists with the Most Popular Songs');"
      ],
      "metadata": {
        "colab": {
          "base_uri": "https://localhost:8080/",
          "height": 638
        },
        "id": "XYE87hD8ONdz",
        "outputId": "dde7aca1-20d3-4d14-f8f7-79d8840a3e5f"
      },
      "execution_count": 22,
      "outputs": [
        {
          "output_type": "display_data",
          "data": {
            "text/plain": [
              "<Figure size 640x480 with 1 Axes>"
            ],
            "image/png": "[encoded data removed]"
          },
          "metadata": {}
        }
      ]
    },
    {
      "cell_type": "code",
      "source": [
        "df_jp.artist_name.value_counts().head()"
      ],
      "metadata": {
        "colab": {
          "base_uri": "https://localhost:8080/"
        },
        "id": "AUoTxtPDWK14",
        "outputId": "c9bc366b-8817-4999-8539-585719600229"
      },
      "execution_count": 23,
      "outputs": [
        {
          "output_type": "execute_result",
          "data": {
            "text/plain": [
              "YOASOBI                  12\n",
              "Mrs. GREEN APPLE         12\n",
              "Vaundy                    8\n",
              "Kenshi Yonezu             5\n",
              "OFFICIAL HIGE DANDISM     5\n",
              "Name: artist_name, dtype: int64"
            ]
          },
          "metadata": {},
          "execution_count": 23
        }
      ]
    },
    {
      "cell_type": "code",
      "source": [
        "sns.countplot(df_jp, x='artist_name',\n",
        "              order=df_jp['artist_name'].value_counts().nlargest(5).index)\n",
        "\n",
        "plt.xlabel('Artist Name')\n",
        "plt.xticks(rotation=90)\n",
        "plt.ylabel('Count')\n",
        "plt.title('Top 5 Japanese Artists with the Most Popular Songs');"
      ],
      "metadata": {
        "colab": {
          "base_uri": "https://localhost:8080/",
          "height": 628
        },
        "id": "RcqgYhwpQxBE",
        "outputId": "e217ae63-d458-47f1-9593-252148ddebef"
      },
      "execution_count": 24,
      "outputs": [
        {
          "output_type": "display_data",
          "data": {
            "text/plain": [
              "<Figure size 640x480 with 1 Axes>"
            ],
            "image/png": "[encoded data removed]"
          },
          "metadata": {}
        }
      ]
    },
    {
      "cell_type": "markdown",
      "source": [
        "### release_date"
      ],
      "metadata": {
        "id": "VamDNQvrLTVp"
      }
    },
    {
      "cell_type": "code",
      "source": [
        "df_cn.sort_values(by='release_date').head()"
      ],
      "metadata": {
        "colab": {
          "base_uri": "https://localhost:8080/",
          "height": 264
        },
        "id": "3rsPybTt-4Q7",
        "outputId": "f8e7de63-41ef-497f-bf35-b090a63a65c4"
      },
      "execution_count": 25,
      "outputs": [
        {
          "output_type": "execute_result",
          "data": {
            "text/plain": [
              "                       song_name                   album_name  \\\n",
              "441  Love Talk - English Version  Love Talk (English Version)   \n",
              "335                           嘉宾                           嘉宾   \n",
              "313             如果可以 - 電影\"月老\"主題曲             如果可以 (電影\"月老\"主題曲)   \n",
              "336                          从前说                          从前说   \n",
              "\n",
              "                                            album_link artist_name  \\\n",
              "441  https://open.spotify.com/album/60A7gFYvWmaDULm...        WayV   \n",
              "335  https://open.spotify.com/album/1orkuJNHCx51s1B...          张远   \n",
              "313  https://open.spotify.com/album/6CGKNcn63JbPWlj...     WeiBird   \n",
              "336  https://open.spotify.com/album/3XKhqXwWo2nHfTC...         小阿七   \n",
              "\n",
              "     popularity release_date  \\\n",
              "441          70   2019-11-05   \n",
              "335          71   2020-10-26   \n",
              "313          72   2021-11-05   \n",
              "336          71   2021-12-29   \n",
              "\n",
              "                                             song_link  duration_ms  explicit  \\\n",
              "441  https://open.spotify.com/track/2e3cJdJ8xWwydl8...       232150     False   \n",
              "335  https://open.spotify.com/track/1IVj6CsBbTgOEpo...       333628     False   \n",
              "313  https://open.spotify.com/track/72OVnXDzugvrCU2...       274400     False   \n",
              "336  https://open.spotify.com/track/3t5edAHbyFEW67w...       251501     False   \n",
              "\n",
              "    query_genre language  \n",
              "441     chinese  Chinese  \n",
              "335     chinese  Chinese  \n",
              "313     chinese  Chinese  \n",
              "336     chinese  Chinese  "
            ],
            "text/html": [
              "\n",
              "  <div id=\"df-feec945e-1f27-40bb-866f-d593b4e09db9\" class=\"colab-df-container\">\n",
              "    <div>\n",
              "<style scoped>\n",
              "    .dataframe tbody tr th:only-of-type {\n",
              "        vertical-align: middle;\n",
              "    }\n",
              "\n",
              "    .dataframe tbody tr th {\n",
              "        vertical-align: top;\n",
              "    }\n",
              "\n",
              "    .dataframe thead th {\n",
              "        text-align: right;\n",
              "    }\n",
              "</style>\n",
              "<table border=\"1\" class=\"dataframe\">\n",
              "  <thead>\n",
              "    <tr style=\"text-align: right;\">\n",
              "      <th></th>\n",
              "      <th>song_name</th>\n",
              "      <th>album_name</th>\n",
              "      <th>album_link</th>\n",
              "      <th>artist_name</th>\n",
              "      <th>popularity</th>\n",
              "      <th>release_date</th>\n",
              "      <th>song_link</th>\n",
              "      <th>duration_ms</th>\n",
              "      <th>explicit</th>\n",
              "      <th>query_genre</th>\n",
              "      <th>language</th>\n",
              "    </tr>\n",
              "  </thead>\n",
              "  <tbody>\n",
              "    <tr>\n",
              "      <th>441</th>\n",
              "      <td>Love Talk - English Version</td>\n",
              "      <td>Love Talk (English Version)</td>\n",
              "      <td>https://open.spotify.com/album/60A7gFYvWmaDULm...</td>\n",
              "      <td>WayV</td>\n",
              "      <td>70</td>\n",
              "      <td>2019-11-05</td>\n",
              "      <td>https://open.spotify.com/track/2e3cJdJ8xWwydl8...</td>\n",
              "      <td>232150</td>\n",
              "      <td>False</td>\n",
              "      <td>chinese</td>\n",
              "      <td>Chinese</td>\n",
              "    </tr>\n",
              "    <tr>\n",
              "      <th>335</th>\n",
              "      <td>嘉宾</td>\n",
              "      <td>嘉宾</td>\n",
              "      <td>https://open.spotify.com/album/1orkuJNHCx51s1B...</td>\n",
              "      <td>张远</td>\n",
              "      <td>71</td>\n",
              "      <td>2020-10-26</td>\n",
              "      <td>https://open.spotify.com/track/1IVj6CsBbTgOEpo...</td>\n",
              "      <td>333628</td>\n",
              "      <td>False</td>\n",
              "      <td>chinese</td>\n",
              "      <td>Chinese</td>\n",
              "    </tr>\n",
              "    <tr>\n",
              "      <th>313</th>\n",
              "      <td>如果可以 - 電影\"月老\"主題曲</td>\n",
              "      <td>如果可以 (電影\"月老\"主題曲)</td>\n",
              "      <td>https://open.spotify.com/album/6CGKNcn63JbPWlj...</td>\n",
              "      <td>WeiBird</td>\n",
              "      <td>72</td>\n",
              "      <td>2021-11-05</td>\n",
              "      <td>https://open.spotify.com/track/72OVnXDzugvrCU2...</td>\n",
              "      <td>274400</td>\n",
              "      <td>False</td>\n",
              "      <td>chinese</td>\n",
              "      <td>Chinese</td>\n",
              "    </tr>\n",
              "    <tr>\n",
              "      <th>336</th>\n",
              "      <td>从前说</td>\n",
              "      <td>从前说</td>\n",
              "      <td>https://open.spotify.com/album/3XKhqXwWo2nHfTC...</td>\n",
              "      <td>小阿七</td>\n",
              "      <td>71</td>\n",
              "      <td>2021-12-29</td>\n",
              "      <td>https://open.spotify.com/track/3t5edAHbyFEW67w...</td>\n",
              "      <td>251501</td>\n",
              "      <td>False</td>\n",
              "      <td>chinese</td>\n",
              "      <td>Chinese</td>\n",
              "    </tr>\n",
              "  </tbody>\n",
              "</table>\n",
              "</div>\n",
              "    <div class=\"colab-df-buttons\">\n",
              "\n",
              "  <div class=\"colab-df-container\">\n",
              "    <button class=\"colab-df-convert\" onclick=\"convertToInteractive('df-feec945e-1f27-40bb-866f-d593b4e09db9')\"\n",
              "            title=\"Convert this dataframe to an interactive table.\"\n",
              "            style=\"display:none;\">\n",
              "\n",
              "  <svg xmlns=\"http://www.w3.org/2000/svg\" height=\"24px\" viewBox=\"0 -960 960 960\">\n",
              "    <path d=\"M120-120v-720h720v720H120Zm60-500h600v-160H180v160Zm220 220h160v-160H400v160Zm0 220h160v-160H400v160ZM180-400h160v-160H180v160Zm440 0h160v-160H620v160ZM180-180h160v-160H180v160Zm440 0h160v-160H620v160Z\"/>\n",
              "  </svg>\n",
              "    </button>\n",
              "\n",
              "  <style>\n",
              "    .colab-df-container {\n",
              "      display:flex;\n",
              "      gap: 12px;\n",
              "    }\n",
              "\n",
              "    .colab-df-convert {\n",
              "      background-color: #E8F0FE;\n",
              "      border: none;\n",
              "      border-radius: 50%;\n",
              "      cursor: pointer;\n",
              "      display: none;\n",
              "      fill: #1967D2;\n",
              "      height: 32px;\n",
              "      padding: 0 0 0 0;\n",
              "      width: 32px;\n",
              "    }\n",
              "\n",
              "    .colab-df-convert:hover {\n",
              "      background-color: #E2EBFA;\n",
              "      box-shadow: 0px 1px 2px rgba(60, 64, 67, 0.3), 0px 1px 3px 1px rgba(60, 64, 67, 0.15);\n",
              "      fill: #174EA6;\n",
              "    }\n",
              "\n",
              "    .colab-df-buttons div {\n",
              "      margin-bottom: 4px;\n",
              "    }\n",
              "\n",
              "    [theme=dark] .colab-df-convert {\n",
              "      background-color: #3B4455;\n",
              "      fill: #D2E3FC;\n",
              "    }\n",
              "\n",
              "    [theme=dark] .colab-df-convert:hover {\n",
              "      background-color: #434B5C;\n",
              "      box-shadow: 0px 1px 3px 1px rgba(0, 0, 0, 0.15);\n",
              "      filter: drop-shadow(0px 1px 2px rgba(0, 0, 0, 0.3));\n",
              "      fill: #FFFFFF;\n",
              "    }\n",
              "  </style>\n",
              "\n",
              "    <script>\n",
              "      const buttonEl =\n",
              "        document.querySelector('#df-feec945e-1f27-40bb-866f-d593b4e09db9 button.colab-df-convert');\n",
              "      buttonEl.style.display =\n",
              "        google.colab.kernel.accessAllowed ? 'block' : 'none';\n",
              "\n",
              "      async function convertToInteractive(key) {\n",
              "        const element = document.querySelector('#df-feec945e-1f27-40bb-866f-d593b4e09db9');\n",
              "        const dataTable =\n",
              "          await google.colab.kernel.invokeFunction('convertToInteractive',\n",
              "                                                    [key], {});\n",
              "        if (!dataTable) return;\n",
              "\n",
              "        const docLinkHtml = 'Like what you see? Visit the ' +\n",
              "          '<a target=\"_blank\" href=https://colab.research.google.com/notebooks/data_table.ipynb>data table notebook</a>'\n",
              "          + ' to learn more about interactive tables.';\n",
              "        element.innerHTML = '';\n",
              "        dataTable['output_type'] = 'display_data';\n",
              "        await google.colab.output.renderOutput(dataTable, element);\n",
              "        const docLink = document.createElement('div');\n",
              "        docLink.innerHTML = docLinkHtml;\n",
              "        element.appendChild(docLink);\n",
              "      }\n",
              "    </script>\n",
              "  </div>\n",
              "\n",
              "\n",
              "<div id=\"df-f64b69fd-7f08-40bf-b7e7-d9758c60b91b\">\n",
              "  <button class=\"colab-df-quickchart\" onclick=\"quickchart('df-f64b69fd-7f08-40bf-b7e7-d9758c60b91b')\"\n",
              "            title=\"Suggest charts\"\n",
              "            style=\"display:none;\">\n",
              "\n",
              "<svg xmlns=\"http://www.w3.org/2000/svg\" height=\"24px\"viewBox=\"0 0 24 24\"\n",
              "     width=\"24px\">\n",
              "    <g>\n",
              "        <path d=\"M19 3H5c-1.1 0-2 .9-2 2v14c0 1.1.9 2 2 2h14c1.1 0 2-.9 2-2V5c0-1.1-.9-2-2-2zM9 17H7v-7h2v7zm4 0h-2V7h2v10zm4 0h-2v-4h2v4z\"/>\n",
              "    </g>\n",
              "</svg>\n",
              "  </button>\n",
              "\n",
              "<style>\n",
              "  .colab-df-quickchart {\n",
              "      --bg-color: #E8F0FE;\n",
              "      --fill-color: #1967D2;\n",
              "      --hover-bg-color: #E2EBFA;\n",
              "      --hover-fill-color: #174EA6;\n",
              "      --disabled-fill-color: #AAA;\n",
              "      --disabled-bg-color: #DDD;\n",
              "  }\n",
              "\n",
              "  [theme=dark] .colab-df-quickchart {\n",
              "      --bg-color: #3B4455;\n",
              "      --fill-color: #D2E3FC;\n",
              "      --hover-bg-color: #434B5C;\n",
              "      --hover-fill-color: #FFFFFF;\n",
              "      --disabled-bg-color: #3B4455;\n",
              "      --disabled-fill-color: #666;\n",
              "  }\n",
              "\n",
              "  .colab-df-quickchart {\n",
              "    background-color: var(--bg-color);\n",
              "    border: none;\n",
              "    border-radius: 50%;\n",
              "    cursor: pointer;\n",
              "    display: none;\n",
              "    fill: var(--fill-color);\n",
              "    height: 32px;\n",
              "    padding: 0;\n",
              "    width: 32px;\n",
              "  }\n",
              "\n",
              "  .colab-df-quickchart:hover {\n",
              "    background-color: var(--hover-bg-color);\n",
              "    box-shadow: 0 1px 2px rgba(60, 64, 67, 0.3), 0 1px 3px 1px rgba(60, 64, 67, 0.15);\n",
              "    fill: var(--button-hover-fill-color);\n",
              "  }\n",
              "\n",
              "  .colab-df-quickchart-complete:disabled,\n",
              "  .colab-df-quickchart-complete:disabled:hover {\n",
              "    background-color: var(--disabled-bg-color);\n",
              "    fill: var(--disabled-fill-color);\n",
              "    box-shadow: none;\n",
              "  }\n",
              "\n",
              "  .colab-df-spinner {\n",
              "    border: 2px solid var(--fill-color);\n",
              "    border-color: transparent;\n",
              "    border-bottom-color: var(--fill-color);\n",
              "    animation:\n",
              "      spin 1s steps(1) infinite;\n",
              "  }\n",
              "\n",
              "  @keyframes spin {\n",
              "    0% {\n",
              "      border-color: transparent;\n",
              "      border-bottom-color: var(--fill-color);\n",
              "      border-left-color: var(--fill-color);\n",
              "    }\n",
              "    20% {\n",
              "      border-color: transparent;\n",
              "      border-left-color: var(--fill-color);\n",
              "      border-top-color: var(--fill-color);\n",
              "    }\n",
              "    30% {\n",
              "      border-color: transparent;\n",
              "      border-left-color: var(--fill-color);\n",
              "      border-top-color: var(--fill-color);\n",
              "      border-right-color: var(--fill-color);\n",
              "    }\n",
              "    40% {\n",
              "      border-color: transparent;\n",
              "      border-right-color: var(--fill-color);\n",
              "      border-top-color: var(--fill-color);\n",
              "    }\n",
              "    60% {\n",
              "      border-color: transparent;\n",
              "      border-right-color: var(--fill-color);\n",
              "    }\n",
              "    80% {\n",
              "      border-color: transparent;\n",
              "      border-right-color: var(--fill-color);\n",
              "      border-bottom-color: var(--fill-color);\n",
              "    }\n",
              "    90% {\n",
              "      border-color: transparent;\n",
              "      border-bottom-color: var(--fill-color);\n",
              "    }\n",
              "  }\n",
              "</style>\n",
              "\n",
              "  <script>\n",
              "    async function quickchart(key) {\n",
              "      const quickchartButtonEl =\n",
              "        document.querySelector('#' + key + ' button');\n",
              "      quickchartButtonEl.disabled = true;  // To prevent multiple clicks.\n",
              "      quickchartButtonEl.classList.add('colab-df-spinner');\n",
              "      try {\n",
              "        const charts = await google.colab.kernel.invokeFunction(\n",
              "            'suggestCharts', [key], {});\n",
              "      } catch (error) {\n",
              "        console.error('Error during call to suggestCharts:', error);\n",
              "      }\n",
              "      quickchartButtonEl.classList.remove('colab-df-spinner');\n",
              "      quickchartButtonEl.classList.add('colab-df-quickchart-complete');\n",
              "    }\n",
              "    (() => {\n",
              "      let quickchartButtonEl =\n",
              "        document.querySelector('#df-f64b69fd-7f08-40bf-b7e7-d9758c60b91b button');\n",
              "      quickchartButtonEl.style.display =\n",
              "        google.colab.kernel.accessAllowed ? 'block' : 'none';\n",
              "    })();\n",
              "  </script>\n",
              "</div>\n",
              "    </div>\n",
              "  </div>\n"
            ]
          },
          "metadata": {},
          "execution_count": 25
        }
      ]
    },
    {
      "cell_type": "code",
      "source": [
        "df_kr.sort_values(by='release_date').head()"
      ],
      "metadata": {
        "colab": {
          "base_uri": "https://localhost:8080/",
          "height": 452
        },
        "id": "fPurvGTTWVIs",
        "outputId": "8164c670-d9c8-4f06-9d11-0773c9ff80ce"
      },
      "execution_count": 26,
      "outputs": [
        {
          "output_type": "execute_result",
          "data": {
            "text/plain": [
              "                    song_name  \\\n",
              "380                  4:00A.M.   \n",
              "220        River Flows In You   \n",
              "375                    Replay   \n",
              "450                 Ichu Ichu   \n",
              "423  눈,코,입 (Eyes, Nose, Lips)   \n",
              "\n",
              "                                            album_name  \\\n",
              "380             MIGNONNE (Mastered by Bernie Grundman)   \n",
              "220  First Love (The Original & the Very First Reco...   \n",
              "375                 The SHINee World - The First Album   \n",
              "450          Vedi (Original Motion Picture Soundtrack)   \n",
              "423                                               RISE   \n",
              "\n",
              "                                            album_link   artist_name  \\\n",
              "380  https://open.spotify.com/album/0Y4RPWAZZui6gUL...   Taeko Onuki   \n",
              "220  https://open.spotify.com/album/1N6p8qmf8PJgYQd...        Yiruma   \n",
              "375  https://open.spotify.com/album/2aiM53N5DGm5VXn...        SHINee   \n",
              "450  https://open.spotify.com/album/3ydUAixcKFc94zV...  Vijay Antony   \n",
              "423  https://open.spotify.com/album/1Y9so4jq4t4taAH...       TAEYANG   \n",
              "\n",
              "     popularity release_date  \\\n",
              "380          71   1978-09-21   \n",
              "220          74   2001-11-27   \n",
              "375          71   2008-08-28   \n",
              "450          70   2011-09-05   \n",
              "423          70   2014-06-03   \n",
              "\n",
              "                                             song_link  duration_ms  explicit  \\\n",
              "380  https://open.spotify.com/track/0zoGVO4bQXG8U6C...       336960     False   \n",
              "220  https://open.spotify.com/track/2agBDIr9MYDUduc...       188786     False   \n",
              "375  https://open.spotify.com/track/1rp986nzkyAX1wF...       213826     False   \n",
              "450  https://open.spotify.com/track/3ysUkfcrFwvXweD...       226698     False   \n",
              "423  https://open.spotify.com/track/0lYtIvI7bO51PZS...       229989     False   \n",
              "\n",
              "    query_genre language  \n",
              "380       k-pop   Korean  \n",
              "220      korean   Korean  \n",
              "375       k-pop   Korean  \n",
              "450       k-pop   Korean  \n",
              "423      korean   Korean  "
            ],
            "text/html": [
              "\n",
              "  <div id=\"df-97066b25-1b88-4661-b884-5dbaf6e4cabb\" class=\"colab-df-container\">\n",
              "    <div>\n",
              "<style scoped>\n",
              "    .dataframe tbody tr th:only-of-type {\n",
              "        vertical-align: middle;\n",
              "    }\n",
              "\n",
              "    .dataframe tbody tr th {\n",
              "        vertical-align: top;\n",
              "    }\n",
              "\n",
              "    .dataframe thead th {\n",
              "        text-align: right;\n",
              "    }\n",
              "</style>\n",
              "<table border=\"1\" class=\"dataframe\">\n",
              "  <thead>\n",
              "    <tr style=\"text-align: right;\">\n",
              "      <th></th>\n",
              "      <th>song_name</th>\n",
              "      <th>album_name</th>\n",
              "      <th>album_link</th>\n",
              "      <th>artist_name</th>\n",
              "      <th>popularity</th>\n",
              "      <th>release_date</th>\n",
              "      <th>song_link</th>\n",
              "      <th>duration_ms</th>\n",
              "      <th>explicit</th>\n",
              "      <th>query_genre</th>\n",
              "      <th>language</th>\n",
              "    </tr>\n",
              "  </thead>\n",
              "  <tbody>\n",
              "    <tr>\n",
              "      <th>380</th>\n",
              "      <td>4:00A.M.</td>\n",
              "      <td>MIGNONNE (Mastered by Bernie Grundman)</td>\n",
              "      <td>https://open.spotify.com/album/0Y4RPWAZZui6gUL...</td>\n",
              "      <td>Taeko Onuki</td>\n",
              "      <td>71</td>\n",
              "      <td>1978-09-21</td>\n",
              "      <td>https://open.spotify.com/track/0zoGVO4bQXG8U6C...</td>\n",
              "      <td>336960</td>\n",
              "      <td>False</td>\n",
              "      <td>k-pop</td>\n",
              "      <td>Korean</td>\n",
              "    </tr>\n",
              "    <tr>\n",
              "      <th>220</th>\n",
              "      <td>River Flows In You</td>\n",
              "      <td>First Love (The Original &amp; the Very First Reco...</td>\n",
              "      <td>https://open.spotify.com/album/1N6p8qmf8PJgYQd...</td>\n",
              "      <td>Yiruma</td>\n",
              "      <td>74</td>\n",
              "      <td>2001-11-27</td>\n",
              "      <td>https://open.spotify.com/track/2agBDIr9MYDUduc...</td>\n",
              "      <td>188786</td>\n",
              "      <td>False</td>\n",
              "      <td>korean</td>\n",
              "      <td>Korean</td>\n",
              "    </tr>\n",
              "    <tr>\n",
              "      <th>375</th>\n",
              "      <td>Replay</td>\n",
              "      <td>The SHINee World - The First Album</td>\n",
              "      <td>https://open.spotify.com/album/2aiM53N5DGm5VXn...</td>\n",
              "      <td>SHINee</td>\n",
              "      <td>71</td>\n",
              "      <td>2008-08-28</td>\n",
              "      <td>https://open.spotify.com/track/1rp986nzkyAX1wF...</td>\n",
              "      <td>213826</td>\n",
              "      <td>False</td>\n",
              "      <td>k-pop</td>\n",
              "      <td>Korean</td>\n",
              "    </tr>\n",
              "    <tr>\n",
              "      <th>450</th>\n",
              "      <td>Ichu Ichu</td>\n",
              "      <td>Vedi (Original Motion Picture Soundtrack)</td>\n",
              "      <td>https://open.spotify.com/album/3ydUAixcKFc94zV...</td>\n",
              "      <td>Vijay Antony</td>\n",
              "      <td>70</td>\n",
              "      <td>2011-09-05</td>\n",
              "      <td>https://open.spotify.com/track/3ysUkfcrFwvXweD...</td>\n",
              "      <td>226698</td>\n",
              "      <td>False</td>\n",
              "      <td>k-pop</td>\n",
              "      <td>Korean</td>\n",
              "    </tr>\n",
              "    <tr>\n",
              "      <th>423</th>\n",
              "      <td>눈,코,입 (Eyes, Nose, Lips)</td>\n",
              "      <td>RISE</td>\n",
              "      <td>https://open.spotify.com/album/1Y9so4jq4t4taAH...</td>\n",
              "      <td>TAEYANG</td>\n",
              "      <td>70</td>\n",
              "      <td>2014-06-03</td>\n",
              "      <td>https://open.spotify.com/track/0lYtIvI7bO51PZS...</td>\n",
              "      <td>229989</td>\n",
              "      <td>False</td>\n",
              "      <td>korean</td>\n",
              "      <td>Korean</td>\n",
              "    </tr>\n",
              "  </tbody>\n",
              "</table>\n",
              "</div>\n",
              "    <div class=\"colab-df-buttons\">\n",
              "\n",
              "  <div class=\"colab-df-container\">\n",
              "    <button class=\"colab-df-convert\" onclick=\"convertToInteractive('df-97066b25-1b88-4661-b884-5dbaf6e4cabb')\"\n",
              "            title=\"Convert this dataframe to an interactive table.\"\n",
              "            style=\"display:none;\">\n",
              "\n",
              "  <svg xmlns=\"http://www.w3.org/2000/svg\" height=\"24px\" viewBox=\"0 -960 960 960\">\n",
              "    <path d=\"M120-120v-720h720v720H120Zm60-500h600v-160H180v160Zm220 220h160v-160H400v160Zm0 220h160v-160H400v160ZM180-400h160v-160H180v160Zm440 0h160v-160H620v160ZM180-180h160v-160H180v160Zm440 0h160v-160H620v160Z\"/>\n",
              "  </svg>\n",
              "    </button>\n",
              "\n",
              "  <style>\n",
              "    .colab-df-container {\n",
              "      display:flex;\n",
              "      gap: 12px;\n",
              "    }\n",
              "\n",
              "    .colab-df-convert {\n",
              "      background-color: #E8F0FE;\n",
              "      border: none;\n",
              "      border-radius: 50%;\n",
              "      cursor: pointer;\n",
              "      display: none;\n",
              "      fill: #1967D2;\n",
              "      height: 32px;\n",
              "      padding: 0 0 0 0;\n",
              "      width: 32px;\n",
              "    }\n",
              "\n",
              "    .colab-df-convert:hover {\n",
              "      background-color: #E2EBFA;\n",
              "      box-shadow: 0px 1px 2px rgba(60, 64, 67, 0.3), 0px 1px 3px 1px rgba(60, 64, 67, 0.15);\n",
              "      fill: #174EA6;\n",
              "    }\n",
              "\n",
              "    .colab-df-buttons div {\n",
              "      margin-bottom: 4px;\n",
              "    }\n",
              "\n",
              "    [theme=dark] .colab-df-convert {\n",
              "      background-color: #3B4455;\n",
              "      fill: #D2E3FC;\n",
              "    }\n",
              "\n",
              "    [theme=dark] .colab-df-convert:hover {\n",
              "      background-color: #434B5C;\n",
              "      box-shadow: 0px 1px 3px 1px rgba(0, 0, 0, 0.15);\n",
              "      filter: drop-shadow(0px 1px 2px rgba(0, 0, 0, 0.3));\n",
              "      fill: #FFFFFF;\n",
              "    }\n",
              "  </style>\n",
              "\n",
              "    <script>\n",
              "      const buttonEl =\n",
              "        document.querySelector('#df-97066b25-1b88-4661-b884-5dbaf6e4cabb button.colab-df-convert');\n",
              "      buttonEl.style.display =\n",
              "        google.colab.kernel.accessAllowed ? 'block' : 'none';\n",
              "\n",
              "      async function convertToInteractive(key) {\n",
              "        const element = document.querySelector('#df-97066b25-1b88-4661-b884-5dbaf6e4cabb');\n",
              "        const dataTable =\n",
              "          await google.colab.kernel.invokeFunction('convertToInteractive',\n",
              "                                                    [key], {});\n",
              "        if (!dataTable) return;\n",
              "\n",
              "        const docLinkHtml = 'Like what you see? Visit the ' +\n",
              "          '<a target=\"_blank\" href=https://colab.research.google.com/notebooks/data_table.ipynb>data table notebook</a>'\n",
              "          + ' to learn more about interactive tables.';\n",
              "        element.innerHTML = '';\n",
              "        dataTable['output_type'] = 'display_data';\n",
              "        await google.colab.output.renderOutput(dataTable, element);\n",
              "        const docLink = document.createElement('div');\n",
              "        docLink.innerHTML = docLinkHtml;\n",
              "        element.appendChild(docLink);\n",
              "      }\n",
              "    </script>\n",
              "  </div>\n",
              "\n",
              "\n",
              "<div id=\"df-836be6ed-917f-4374-8e06-b46753c560c3\">\n",
              "  <button class=\"colab-df-quickchart\" onclick=\"quickchart('df-836be6ed-917f-4374-8e06-b46753c560c3')\"\n",
              "            title=\"Suggest charts\"\n",
              "            style=\"display:none;\">\n",
              "\n",
              "<svg xmlns=\"http://www.w3.org/2000/svg\" height=\"24px\"viewBox=\"0 0 24 24\"\n",
              "     width=\"24px\">\n",
              "    <g>\n",
              "        <path d=\"M19 3H5c-1.1 0-2 .9-2 2v14c0 1.1.9 2 2 2h14c1.1 0 2-.9 2-2V5c0-1.1-.9-2-2-2zM9 17H7v-7h2v7zm4 0h-2V7h2v10zm4 0h-2v-4h2v4z\"/>\n",
              "    </g>\n",
              "</svg>\n",
              "  </button>\n",
              "\n",
              "<style>\n",
              "  .colab-df-quickchart {\n",
              "      --bg-color: #E8F0FE;\n",
              "      --fill-color: #1967D2;\n",
              "      --hover-bg-color: #E2EBFA;\n",
              "      --hover-fill-color: #174EA6;\n",
              "      --disabled-fill-color: #AAA;\n",
              "      --disabled-bg-color: #DDD;\n",
              "  }\n",
              "\n",
              "  [theme=dark] .colab-df-quickchart {\n",
              "      --bg-color: #3B4455;\n",
              "      --fill-color: #D2E3FC;\n",
              "      --hover-bg-color: #434B5C;\n",
              "      --hover-fill-color: #FFFFFF;\n",
              "      --disabled-bg-color: #3B4455;\n",
              "      --disabled-fill-color: #666;\n",
              "  }\n",
              "\n",
              "  .colab-df-quickchart {\n",
              "    background-color: var(--bg-color);\n",
              "    border: none;\n",
              "    border-radius: 50%;\n",
              "    cursor: pointer;\n",
              "    display: none;\n",
              "    fill: var(--fill-color);\n",
              "    height: 32px;\n",
              "    padding: 0;\n",
              "    width: 32px;\n",
              "  }\n",
              "\n",
              "  .colab-df-quickchart:hover {\n",
              "    background-color: var(--hover-bg-color);\n",
              "    box-shadow: 0 1px 2px rgba(60, 64, 67, 0.3), 0 1px 3px 1px rgba(60, 64, 67, 0.15);\n",
              "    fill: var(--button-hover-fill-color);\n",
              "  }\n",
              "\n",
              "  .colab-df-quickchart-complete:disabled,\n",
              "  .colab-df-quickchart-complete:disabled:hover {\n",
              "    background-color: var(--disabled-bg-color);\n",
              "    fill: var(--disabled-fill-color);\n",
              "    box-shadow: none;\n",
              "  }\n",
              "\n",
              "  .colab-df-spinner {\n",
              "    border: 2px solid var(--fill-color);\n",
              "    border-color: transparent;\n",
              "    border-bottom-color: var(--fill-color);\n",
              "    animation:\n",
              "      spin 1s steps(1) infinite;\n",
              "  }\n",
              "\n",
              "  @keyframes spin {\n",
              "    0% {\n",
              "      border-color: transparent;\n",
              "      border-bottom-color: var(--fill-color);\n",
              "      border-left-color: var(--fill-color);\n",
              "    }\n",
              "    20% {\n",
              "      border-color: transparent;\n",
              "      border-left-color: var(--fill-color);\n",
              "      border-top-color: var(--fill-color);\n",
              "    }\n",
              "    30% {\n",
              "      border-color: transparent;\n",
              "      border-left-color: var(--fill-color);\n",
              "      border-top-color: var(--fill-color);\n",
              "      border-right-color: var(--fill-color);\n",
              "    }\n",
              "    40% {\n",
              "      border-color: transparent;\n",
              "      border-right-color: var(--fill-color);\n",
              "      border-top-color: var(--fill-color);\n",
              "    }\n",
              "    60% {\n",
              "      border-color: transparent;\n",
              "      border-right-color: var(--fill-color);\n",
              "    }\n",
              "    80% {\n",
              "      border-color: transparent;\n",
              "      border-right-color: var(--fill-color);\n",
              "      border-bottom-color: var(--fill-color);\n",
              "    }\n",
              "    90% {\n",
              "      border-color: transparent;\n",
              "      border-bottom-color: var(--fill-color);\n",
              "    }\n",
              "  }\n",
              "</style>\n",
              "\n",
              "  <script>\n",
              "    async function quickchart(key) {\n",
              "      const quickchartButtonEl =\n",
              "        document.querySelector('#' + key + ' button');\n",
              "      quickchartButtonEl.disabled = true;  // To prevent multiple clicks.\n",
              "      quickchartButtonEl.classList.add('colab-df-spinner');\n",
              "      try {\n",
              "        const charts = await google.colab.kernel.invokeFunction(\n",
              "            'suggestCharts', [key], {});\n",
              "      } catch (error) {\n",
              "        console.error('Error during call to suggestCharts:', error);\n",
              "      }\n",
              "      quickchartButtonEl.classList.remove('colab-df-spinner');\n",
              "      quickchartButtonEl.classList.add('colab-df-quickchart-complete');\n",
              "    }\n",
              "    (() => {\n",
              "      let quickchartButtonEl =\n",
              "        document.querySelector('#df-836be6ed-917f-4374-8e06-b46753c560c3 button');\n",
              "      quickchartButtonEl.style.display =\n",
              "        google.colab.kernel.accessAllowed ? 'block' : 'none';\n",
              "    })();\n",
              "  </script>\n",
              "</div>\n",
              "    </div>\n",
              "  </div>\n"
            ]
          },
          "metadata": {},
          "execution_count": 26
        }
      ]
    },
    {
      "cell_type": "code",
      "source": [
        "df_jp.sort_values(by='release_date').head()"
      ],
      "metadata": {
        "id": "zmutmnFmWpF6",
        "colab": {
          "base_uri": "https://localhost:8080/",
          "height": 365
        },
        "outputId": "361bc6e8-8fb7-48bb-b925-2abeb5133afb"
      },
      "execution_count": 27,
      "outputs": [
        {
          "output_type": "execute_result",
          "data": {
            "text/plain": [
              "                                             song_name  \\\n",
              "416                                               チェリー   \n",
              "266                                         First Love   \n",
              "144  Tokyo Drift (Fast & Furious) - From \"The Fast ...   \n",
              "176                                            unravel   \n",
              "287                            Gyal You a Party Animal   \n",
              "\n",
              "                       album_name  \\\n",
              "416                      インディゴ地平線   \n",
              "266                    First Love   \n",
              "144  Tokyo Drift (Fast & Furious)   \n",
              "176               Fantastic Magic   \n",
              "287       Gyal You a Party Animal   \n",
              "\n",
              "                                            album_link  \\\n",
              "416  https://open.spotify.com/album/0GB573iZ4z6gre3...   \n",
              "266  https://open.spotify.com/album/29U9LtzSF0ftWiL...   \n",
              "144  https://open.spotify.com/album/5SXTscj33KnBUpD...   \n",
              "176  https://open.spotify.com/album/1jLua47U6YKYY4G...   \n",
              "287  https://open.spotify.com/album/0AuidICCpJQTwjM...   \n",
              "\n",
              "                    artist_name  popularity release_date  \\\n",
              "416                       SPITZ          70   1996-01-01   \n",
              "266                Hikaru Utada          73   1999-03-10   \n",
              "144               Teriyaki Boyz          76   2006-01-01   \n",
              "176  TK from Ling tosite sigure          75   2014-08-27   \n",
              "287                Charly Black          72   2015-01-01   \n",
              "\n",
              "                                             song_link  duration_ms  explicit  \\\n",
              "416  https://open.spotify.com/track/1ihCiJaXRl4f6Sy...       259933     False   \n",
              "266  https://open.spotify.com/track/39HrUxcvKF3jtLz...       257293     False   \n",
              "144  https://open.spotify.com/track/0upFohXrGxIIAjy...       255946     False   \n",
              "176  https://open.spotify.com/track/1rN9QoVxw5U7TJk...       238360     False   \n",
              "287  https://open.spotify.com/track/6bOLRTULQUiXeVn...       214455     False   \n",
              "\n",
              "    query_genre  language  \n",
              "416       j-pop  Japanese  \n",
              "266       j-pop  Japanese  \n",
              "144    japanese  Japanese  \n",
              "176       j-pop  Japanese  \n",
              "287     j-dance  Japanese  "
            ],
            "text/html": [
              "\n",
              "  <div id=\"df-fce28627-e21e-44b0-8073-0bd09d617621\" class=\"colab-df-container\">\n",
              "    <div>\n",
              "<style scoped>\n",
              "    .dataframe tbody tr th:only-of-type {\n",
              "        vertical-align: middle;\n",
              "    }\n",
              "\n",
              "    .dataframe tbody tr th {\n",
              "        vertical-align: top;\n",
              "    }\n",
              "\n",
              "    .dataframe thead th {\n",
              "        text-align: right;\n",
              "    }\n",
              "</style>\n",
              "<table border=\"1\" class=\"dataframe\">\n",
              "  <thead>\n",
              "    <tr style=\"text-align: right;\">\n",
              "      <th></th>\n",
              "      <th>song_name</th>\n",
              "      <th>album_name</th>\n",
              "      <th>album_link</th>\n",
              "      <th>artist_name</th>\n",
              "      <th>popularity</th>\n",
              "      <th>release_date</th>\n",
              "      <th>song_link</th>\n",
              "      <th>duration_ms</th>\n",
              "      <th>explicit</th>\n",
              "      <th>query_genre</th>\n",
              "      <th>language</th>\n",
              "    </tr>\n",
              "  </thead>\n",
              "  <tbody>\n",
              "    <tr>\n",
              "      <th>416</th>\n",
              "      <td>チェリー</td>\n",
              "      <td>インディゴ地平線</td>\n",
              "      <td>https://open.spotify.com/album/0GB573iZ4z6gre3...</td>\n",
              "      <td>SPITZ</td>\n",
              "      <td>70</td>\n",
              "      <td>1996-01-01</td>\n",
              "      <td>https://open.spotify.com/track/1ihCiJaXRl4f6Sy...</td>\n",
              "      <td>259933</td>\n",
              "      <td>False</td>\n",
              "      <td>j-pop</td>\n",
              "      <td>Japanese</td>\n",
              "    </tr>\n",
              "    <tr>\n",
              "      <th>266</th>\n",
              "      <td>First Love</td>\n",
              "      <td>First Love</td>\n",
              "      <td>https://open.spotify.com/album/29U9LtzSF0ftWiL...</td>\n",
              "      <td>Hikaru Utada</td>\n",
              "      <td>73</td>\n",
              "      <td>1999-03-10</td>\n",
              "      <td>https://open.spotify.com/track/39HrUxcvKF3jtLz...</td>\n",
              "      <td>257293</td>\n",
              "      <td>False</td>\n",
              "      <td>j-pop</td>\n",
              "      <td>Japanese</td>\n",
              "    </tr>\n",
              "    <tr>\n",
              "      <th>144</th>\n",
              "      <td>Tokyo Drift (Fast &amp; Furious) - From \"The Fast ...</td>\n",
              "      <td>Tokyo Drift (Fast &amp; Furious)</td>\n",
              "      <td>https://open.spotify.com/album/5SXTscj33KnBUpD...</td>\n",
              "      <td>Teriyaki Boyz</td>\n",
              "      <td>76</td>\n",
              "      <td>2006-01-01</td>\n",
              "      <td>https://open.spotify.com/track/0upFohXrGxIIAjy...</td>\n",
              "      <td>255946</td>\n",
              "      <td>False</td>\n",
              "      <td>japanese</td>\n",
              "      <td>Japanese</td>\n",
              "    </tr>\n",
              "    <tr>\n",
              "      <th>176</th>\n",
              "      <td>unravel</td>\n",
              "      <td>Fantastic Magic</td>\n",
              "      <td>https://open.spotify.com/album/1jLua47U6YKYY4G...</td>\n",
              "      <td>TK from Ling tosite sigure</td>\n",
              "      <td>75</td>\n",
              "      <td>2014-08-27</td>\n",
              "      <td>https://open.spotify.com/track/1rN9QoVxw5U7TJk...</td>\n",
              "      <td>238360</td>\n",
              "      <td>False</td>\n",
              "      <td>j-pop</td>\n",
              "      <td>Japanese</td>\n",
              "    </tr>\n",
              "    <tr>\n",
              "      <th>287</th>\n",
              "      <td>Gyal You a Party Animal</td>\n",
              "      <td>Gyal You a Party Animal</td>\n",
              "      <td>https://open.spotify.com/album/0AuidICCpJQTwjM...</td>\n",
              "      <td>Charly Black</td>\n",
              "      <td>72</td>\n",
              "      <td>2015-01-01</td>\n",
              "      <td>https://open.spotify.com/track/6bOLRTULQUiXeVn...</td>\n",
              "      <td>214455</td>\n",
              "      <td>False</td>\n",
              "      <td>j-dance</td>\n",
              "      <td>Japanese</td>\n",
              "    </tr>\n",
              "  </tbody>\n",
              "</table>\n",
              "</div>\n",
              "    <div class=\"colab-df-buttons\">\n",
              "\n",
              "  <div class=\"colab-df-container\">\n",
              "    <button class=\"colab-df-convert\" onclick=\"convertToInteractive('df-fce28627-e21e-44b0-8073-0bd09d617621')\"\n",
              "            title=\"Convert this dataframe to an interactive table.\"\n",
              "            style=\"display:none;\">\n",
              "\n",
              "  <svg xmlns=\"http://www.w3.org/2000/svg\" height=\"24px\" viewBox=\"0 -960 960 960\">\n",
              "    <path d=\"M120-120v-720h720v720H120Zm60-500h600v-160H180v160Zm220 220h160v-160H400v160Zm0 220h160v-160H400v160ZM180-400h160v-160H180v160Zm440 0h160v-160H620v160ZM180-180h160v-160H180v160Zm440 0h160v-160H620v160Z\"/>\n",
              "  </svg>\n",
              "    </button>\n",
              "\n",
              "  <style>\n",
              "    .colab-df-container {\n",
              "      display:flex;\n",
              "      gap: 12px;\n",
              "    }\n",
              "\n",
              "    .colab-df-convert {\n",
              "      background-color: #E8F0FE;\n",
              "      border: none;\n",
              "      border-radius: 50%;\n",
              "      cursor: pointer;\n",
              "      display: none;\n",
              "      fill: #1967D2;\n",
              "      height: 32px;\n",
              "      padding: 0 0 0 0;\n",
              "      width: 32px;\n",
              "    }\n",
              "\n",
              "    .colab-df-convert:hover {\n",
              "      background-color: #E2EBFA;\n",
              "      box-shadow: 0px 1px 2px rgba(60, 64, 67, 0.3), 0px 1px 3px 1px rgba(60, 64, 67, 0.15);\n",
              "      fill: #174EA6;\n",
              "    }\n",
              "\n",
              "    .colab-df-buttons div {\n",
              "      margin-bottom: 4px;\n",
              "    }\n",
              "\n",
              "    [theme=dark] .colab-df-convert {\n",
              "      background-color: #3B4455;\n",
              "      fill: #D2E3FC;\n",
              "    }\n",
              "\n",
              "    [theme=dark] .colab-df-convert:hover {\n",
              "      background-color: #434B5C;\n",
              "      box-shadow: 0px 1px 3px 1px rgba(0, 0, 0, 0.15);\n",
              "      filter: drop-shadow(0px 1px 2px rgba(0, 0, 0, 0.3));\n",
              "      fill: #FFFFFF;\n",
              "    }\n",
              "  </style>\n",
              "\n",
              "    <script>\n",
              "      const buttonEl =\n",
              "        document.querySelector('#df-fce28627-e21e-44b0-8073-0bd09d617621 button.colab-df-convert');\n",
              "      buttonEl.style.display =\n",
              "        google.colab.kernel.accessAllowed ? 'block' : 'none';\n",
              "\n",
              "      async function convertToInteractive(key) {\n",
              "        const element = document.querySelector('#df-fce28627-e21e-44b0-8073-0bd09d617621');\n",
              "        const dataTable =\n",
              "          await google.colab.kernel.invokeFunction('convertToInteractive',\n",
              "                                                    [key], {});\n",
              "        if (!dataTable) return;\n",
              "\n",
              "        const docLinkHtml = 'Like what you see? Visit the ' +\n",
              "          '<a target=\"_blank\" href=https://colab.research.google.com/notebooks/data_table.ipynb>data table notebook</a>'\n",
              "          + ' to learn more about interactive tables.';\n",
              "        element.innerHTML = '';\n",
              "        dataTable['output_type'] = 'display_data';\n",
              "        await google.colab.output.renderOutput(dataTable, element);\n",
              "        const docLink = document.createElement('div');\n",
              "        docLink.innerHTML = docLinkHtml;\n",
              "        element.appendChild(docLink);\n",
              "      }\n",
              "    </script>\n",
              "  </div>\n",
              "\n",
              "\n",
              "<div id=\"df-60e9bbff-587b-4e5b-801e-3edfc4b24138\">\n",
              "  <button class=\"colab-df-quickchart\" onclick=\"quickchart('df-60e9bbff-587b-4e5b-801e-3edfc4b24138')\"\n",
              "            title=\"Suggest charts\"\n",
              "            style=\"display:none;\">\n",
              "\n",
              "<svg xmlns=\"http://www.w3.org/2000/svg\" height=\"24px\"viewBox=\"0 0 24 24\"\n",
              "     width=\"24px\">\n",
              "    <g>\n",
              "        <path d=\"M19 3H5c-1.1 0-2 .9-2 2v14c0 1.1.9 2 2 2h14c1.1 0 2-.9 2-2V5c0-1.1-.9-2-2-2zM9 17H7v-7h2v7zm4 0h-2V7h2v10zm4 0h-2v-4h2v4z\"/>\n",
              "    </g>\n",
              "</svg>\n",
              "  </button>\n",
              "\n",
              "<style>\n",
              "  .colab-df-quickchart {\n",
              "      --bg-color: #E8F0FE;\n",
              "      --fill-color: #1967D2;\n",
              "      --hover-bg-color: #E2EBFA;\n",
              "      --hover-fill-color: #174EA6;\n",
              "      --disabled-fill-color: #AAA;\n",
              "      --disabled-bg-color: #DDD;\n",
              "  }\n",
              "\n",
              "  [theme=dark] .colab-df-quickchart {\n",
              "      --bg-color: #3B4455;\n",
              "      --fill-color: #D2E3FC;\n",
              "      --hover-bg-color: #434B5C;\n",
              "      --hover-fill-color: #FFFFFF;\n",
              "      --disabled-bg-color: #3B4455;\n",
              "      --disabled-fill-color: #666;\n",
              "  }\n",
              "\n",
              "  .colab-df-quickchart {\n",
              "    background-color: var(--bg-color);\n",
              "    border: none;\n",
              "    border-radius: 50%;\n",
              "    cursor: pointer;\n",
              "    display: none;\n",
              "    fill: var(--fill-color);\n",
              "    height: 32px;\n",
              "    padding: 0;\n",
              "    width: 32px;\n",
              "  }\n",
              "\n",
              "  .colab-df-quickchart:hover {\n",
              "    background-color: var(--hover-bg-color);\n",
              "    box-shadow: 0 1px 2px rgba(60, 64, 67, 0.3), 0 1px 3px 1px rgba(60, 64, 67, 0.15);\n",
              "    fill: var(--button-hover-fill-color);\n",
              "  }\n",
              "\n",
              "  .colab-df-quickchart-complete:disabled,\n",
              "  .colab-df-quickchart-complete:disabled:hover {\n",
              "    background-color: var(--disabled-bg-color);\n",
              "    fill: var(--disabled-fill-color);\n",
              "    box-shadow: none;\n",
              "  }\n",
              "\n",
              "  .colab-df-spinner {\n",
              "    border: 2px solid var(--fill-color);\n",
              "    border-color: transparent;\n",
              "    border-bottom-color: var(--fill-color);\n",
              "    animation:\n",
              "      spin 1s steps(1) infinite;\n",
              "  }\n",
              "\n",
              "  @keyframes spin {\n",
              "    0% {\n",
              "      border-color: transparent;\n",
              "      border-bottom-color: var(--fill-color);\n",
              "      border-left-color: var(--fill-color);\n",
              "    }\n",
              "    20% {\n",
              "      border-color: transparent;\n",
              "      border-left-color: var(--fill-color);\n",
              "      border-top-color: var(--fill-color);\n",
              "    }\n",
              "    30% {\n",
              "      border-color: transparent;\n",
              "      border-left-color: var(--fill-color);\n",
              "      border-top-color: var(--fill-color);\n",
              "      border-right-color: var(--fill-color);\n",
              "    }\n",
              "    40% {\n",
              "      border-color: transparent;\n",
              "      border-right-color: var(--fill-color);\n",
              "      border-top-color: var(--fill-color);\n",
              "    }\n",
              "    60% {\n",
              "      border-color: transparent;\n",
              "      border-right-color: var(--fill-color);\n",
              "    }\n",
              "    80% {\n",
              "      border-color: transparent;\n",
              "      border-right-color: var(--fill-color);\n",
              "      border-bottom-color: var(--fill-color);\n",
              "    }\n",
              "    90% {\n",
              "      border-color: transparent;\n",
              "      border-bottom-color: var(--fill-color);\n",
              "    }\n",
              "  }\n",
              "</style>\n",
              "\n",
              "  <script>\n",
              "    async function quickchart(key) {\n",
              "      const quickchartButtonEl =\n",
              "        document.querySelector('#' + key + ' button');\n",
              "      quickchartButtonEl.disabled = true;  // To prevent multiple clicks.\n",
              "      quickchartButtonEl.classList.add('colab-df-spinner');\n",
              "      try {\n",
              "        const charts = await google.colab.kernel.invokeFunction(\n",
              "            'suggestCharts', [key], {});\n",
              "      } catch (error) {\n",
              "        console.error('Error during call to suggestCharts:', error);\n",
              "      }\n",
              "      quickchartButtonEl.classList.remove('colab-df-spinner');\n",
              "      quickchartButtonEl.classList.add('colab-df-quickchart-complete');\n",
              "    }\n",
              "    (() => {\n",
              "      let quickchartButtonEl =\n",
              "        document.querySelector('#df-60e9bbff-587b-4e5b-801e-3edfc4b24138 button');\n",
              "      quickchartButtonEl.style.display =\n",
              "        google.colab.kernel.accessAllowed ? 'block' : 'none';\n",
              "    })();\n",
              "  </script>\n",
              "</div>\n",
              "    </div>\n",
              "  </div>\n"
            ]
          },
          "metadata": {},
          "execution_count": 27
        }
      ]
    },
    {
      "cell_type": "code",
      "source": [
        "plt.figure(figsize=(15,5))\n",
        "\n",
        "sns.lineplot(data=df_concat, x=df_concat.release_date.dt.year, y='popularity',\n",
        "             errorbar=None, hue='language', style='language')\n",
        "\n",
        "plt.xlabel('Release Year')\n",
        "plt.ylabel('Popularity')\n",
        "plt.legend(title='Language')\n",
        "plt.title('Popularity over Time');"
      ],
      "metadata": {
        "colab": {
          "base_uri": "https://localhost:8080/",
          "height": 458
        },
        "id": "B4-fG47jRbj8",
        "outputId": "ec86a890-eec2-4a41-e570-d069e69de09c"
      },
      "execution_count": 29,
      "outputs": [
        {
          "output_type": "display_data",
          "data": {
            "text/plain": [
              "<Figure size 1500x500 with 1 Axes>"
            ],
            "image/png": "[encoded data removed]"
          },
          "metadata": {}
        }
      ]
    }
  ]
}